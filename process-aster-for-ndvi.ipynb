{
 "cells": [
  {
   "cell_type": "code",
   "execution_count": 11,
   "metadata": {},
   "outputs": [],
   "source": [
    "from aster_timestamps import aster_timestamps\n",
    "import pandas as pd\n",
    "import numpy as np"
   ]
  },
  {
   "cell_type": "markdown",
   "metadata": {},
   "source": [
    "Find all the aster files, their filepaths, and timestamps:"
   ]
  },
  {
   "cell_type": "code",
   "execution_count": 12,
   "metadata": {},
   "outputs": [],
   "source": [
    "aster_files = aster_timestamps('/storage/spestana/ASTER/AST_L1T/hdf')"
   ]
  },
  {
   "cell_type": "markdown",
   "metadata": {},
   "source": [
    "Find the four ASTER images I want to try and make NDVI maps from:"
   ]
  },
  {
   "cell_type": "code",
   "execution_count": 29,
   "metadata": {},
   "outputs": [],
   "source": [
    "my_timestamps = [pd.Timestamp('2017-05-23T18:51:10', tz='UTC'),\n",
    "                 pd.Timestamp('2018-05-17T18:58:31', tz='UTC'),\n",
    "                 pd.Timestamp('2019-04-27T18:51:22', tz='UTC'),\n",
    "                 pd.Timestamp('2020-04-13T18:51:17', tz='UTC')]\n",
    "\n",
    "my_filepaths = [aster_files.loc[aster_files.timestampUTC==this_timestamp].filepath.values[0] for this_timestamp in my_timestamps]"
   ]
  },
  {
   "cell_type": "code",
   "execution_count": 31,
   "metadata": {},
   "outputs": [
    {
     "data": {
      "text/plain": [
       "['/storage/spestana/ASTER/AST_L1T/hdf/AST_L1T_00305232017185110_20170524170415_26127.hdf',\n",
       " '/storage/spestana/ASTER/AST_L1T/hdf/AST_L1T_00305172018185831_20180518114917_21406.hdf',\n",
       " '/storage/spestana/ASTER/AST_L1T/hdf/AST_L1T_00304272019185122_20190428120146_10912.hdf',\n",
       " '/storage/spestana/ASTER/AST_L1T/hdf/2020/New folder/both/AST_L1T_00304132020185117_20200414091306_12717.hdf']"
      ]
     },
     "execution_count": 31,
     "metadata": {},
     "output_type": "execute_result"
    }
   ],
   "source": [
    "my_filepaths"
   ]
  },
  {
   "cell_type": "markdown",
   "metadata": {},
   "source": [
    "Copy these files to a local data directory"
   ]
  },
  {
   "cell_type": "code",
   "execution_count": 41,
   "metadata": {},
   "outputs": [],
   "source": [
    "#!cp \"{my_filepaths[3]}\" ./data/"
   ]
  },
  {
   "cell_type": "markdown",
   "metadata": {},
   "source": [
    "For each of these files, now run the ASTERL1T_DN2REF.py utility to convert DN hdfs to reflectance geotiffs."
   ]
  },
  {
   "cell_type": "code",
   "execution_count": 47,
   "metadata": {},
   "outputs": [
    {
     "name": "stdout",
     "output_type": "stream",
     "text": [
      "Processing File: AST_L1T_00305232017185110_20170524170415_26127.hdf (1 out of 4)\n",
      "Processing File: AST_L1T_00305172018185831_20180518114917_21406.hdf (2 out of 4)\n",
      "Processing File: AST_L1T_00304272019185122_20190428120146_10912.hdf (3 out of 4)\n",
      "Processing File: AST_L1T_00304132020185117_20200414091306_12717.hdf (4 out of 4)\n"
     ]
    }
   ],
   "source": [
    "#!python ../aster-l1t/ASTERL1T_DN2REF.py ~/git/aster/data/"
   ]
  },
  {
   "cell_type": "markdown",
   "metadata": {},
   "source": [
    "Now open the Red (band 2) and NIR (band 3) files in `~/git/aster/data/output/` to make NDVI maps!"
   ]
  },
  {
   "cell_type": "code",
   "execution_count": 134,
   "metadata": {},
   "outputs": [],
   "source": [
    "#import xarray as xr\n",
    "#import rioxarray\n",
    "\n",
    "import rasterio as rio\n",
    "import matplotlib.pyplot as plt\n",
    "import numpy as np"
   ]
  },
  {
   "cell_type": "code",
   "execution_count": 135,
   "metadata": {},
   "outputs": [],
   "source": [
    "def aster_ndvi(red_filepath, nir_filepath, ndvi_filepath):\n",
    "    \n",
    "    reader_red = rio.open(red_filepath)\n",
    "    red = reader_red.read(1)\n",
    "\n",
    "    reader_nir = rio.open(nir_filepath)\n",
    "    nir = reader_nir.read(1)\n",
    "\n",
    "    ndvi = np.zeros(reader_red.shape, dtype=rio.float32)\n",
    "    ndvi = (nir.astype(float) - red.astype(float)) / (nir + red)\n",
    "\n",
    "    kwargs = reader_red.meta\n",
    "    kwargs.update(\n",
    "        dtype=rio.float32,\n",
    "        count=1,\n",
    "        compress='lzw')\n",
    "\n",
    "    with rio.open(ndvi_filepath, 'w', **kwargs) as dst:\n",
    "        dst.write_band(1, ndvi.astype(rio.float32))"
   ]
  },
  {
   "cell_type": "code",
   "execution_count": 153,
   "metadata": {},
   "outputs": [],
   "source": [
    "red_filepath = 'data/output/AST_L1T_00304132020185117_20200414091306_12717_ImageData2_reflectance.tif'\n",
    "nir_filepath = 'data/output/AST_L1T_00304132020185117_20200414091306_12717_ImageData3N_reflectance.tif'\n",
    "ndvi_filepath = 'data/AST_L1T_00304132020185117_20200414091306_12717_NDVI.tif'"
   ]
  },
  {
   "cell_type": "code",
   "execution_count": 154,
   "metadata": {},
   "outputs": [
    {
     "name": "stderr",
     "output_type": "stream",
     "text": [
      "/home/spestana/opt/anaconda3/envs/goes-linux/lib/python3.6/site-packages/ipykernel_launcher.py:10: RuntimeWarning: divide by zero encountered in true_divide\n",
      "  # Remove the CWD from sys.path while we load stuff.\n",
      "/home/spestana/opt/anaconda3/envs/goes-linux/lib/python3.6/site-packages/ipykernel_launcher.py:10: RuntimeWarning: invalid value encountered in true_divide\n",
      "  # Remove the CWD from sys.path while we load stuff.\n"
     ]
    }
   ],
   "source": [
    "aster_ndvi(red_filepath, nir_filepath, ndvi_filepath)"
   ]
  },
  {
   "cell_type": "code",
   "execution_count": null,
   "metadata": {},
   "outputs": [],
   "source": [
    "AST_L1T_00305172018185831_20180518114917_21406_NDVI.tif"
   ]
  }
 ],
 "metadata": {
  "kernelspec": {
   "display_name": "Python 3",
   "language": "python",
   "name": "python3"
  },
  "language_info": {
   "codemirror_mode": {
    "name": "ipython",
    "version": 3
   },
   "file_extension": ".py",
   "mimetype": "text/x-python",
   "name": "python",
   "nbconvert_exporter": "python",
   "pygments_lexer": "ipython3",
   "version": "3.6.9"
  }
 },
 "nbformat": 4,
 "nbformat_minor": 4
}
